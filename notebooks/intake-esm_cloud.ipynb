{
 "cells": [
  {
   "cell_type": "code",
   "execution_count": null,
   "metadata": {},
   "outputs": [],
   "source": [
    "%load_ext nb_black"
   ]
  },
  {
   "cell_type": "code",
   "execution_count": 1,
   "metadata": {},
   "outputs": [
    {
     "name": "stderr",
     "output_type": "stream",
     "text": [
      "/Users/aaron.spring/anaconda3/envs/xr/lib/python3.7/site-packages/tqdm/autonotebook/__init__.py:14: TqdmExperimentalWarning: Using `tqdm.autonotebook.tqdm` in notebook mode. Use `tqdm.tqdm` instead to force console mode (e.g. in jupyter console)\n",
      "  \" (e.g. in jupyter console)\", TqdmExperimentalWarning)\n"
     ]
    }
   ],
   "source": [
    "# Import some python libraries\n",
    "%matplotlib inline\n",
    "\n",
    "import numpy as np\n",
    "import xarray as xr\n",
    "import matplotlib.pyplot as plt\n",
    "import intake"
   ]
  },
  {
   "cell_type": "code",
   "execution_count": null,
   "metadata": {},
   "outputs": [],
   "source": [
    "# Setup a dask cluster\n",
    "from dask.distributed import Client\n",
    "from dask_kubernetes import KubeCluster\n",
    "\n",
    "cluster = KubeCluster()\n",
    "cluster.adapt(minimum=16, maximum=64, interval='2s', wait_count=3)"
   ]
  },
  {
   "cell_type": "code",
   "execution_count": null,
   "metadata": {},
   "outputs": [],
   "source": [
    "client = Client(cluster)\n",
    "client"
   ]
  },
  {
   "cell_type": "markdown",
   "metadata": {},
   "source": [
    "# setup `intake-esm`\n",
    "intake-esm.readthedocs.io/"
   ]
  },
  {
   "cell_type": "code",
   "execution_count": null,
   "metadata": {},
   "outputs": [],
   "source": [
    "col = intake.open_esm_datastore(\"https://raw.githubusercontent.com/NCAR/intake-esm-datastore/master/catalogs/pangeo-cmip6.json\")"
   ]
  },
  {
   "cell_type": "code",
   "execution_count": null,
   "metadata": {},
   "outputs": [],
   "source": [
    "variable_id = 'tas'\n",
    "table_id='Amon'\n",
    "source_id = 'CESM1-1-CAM5-CMIP5'"
   ]
  },
  {
   "cell_type": "markdown",
   "metadata": {},
   "source": [
    "# Get hindcast\n",
    "Boer, G. J., D. M. Smith, C. Cassou, F. Doblas-Reyes, G. Danabasoglu, B. Kirtman, Y. Kushnir, et al. “The Decadal Climate Prediction Project (DCPP) Contribution to CMIP6.” Geosci. Model Dev. 9, no. 10 (October 25, 2016): 3751–77. https://doi.org/10/f89qdf."
   ]
  },
  {
   "cell_type": "code",
   "execution_count": null,
   "metadata": {},
   "outputs": [],
   "source": [
    "cat_cmip = col.search(experiment_id=['dcppA-hindcast'],\n",
    "                 table_id=table_id,       \n",
    "                 variable_id=variable_id,\n",
    "                 source_id=source_id,\n",
    "                     )\n",
    "cat_cmip.df['dcpp_init_year'] = cat_cmip.df.dcpp_init_year.astype(int)\n",
    "#cat_cmip"
   ]
  },
  {
   "cell_type": "code",
   "execution_count": null,
   "metadata": {},
   "outputs": [],
   "source": [
    "members = sorted(list(cat_cmip.df.member_id.unique()))[:10]\n",
    "inits = list(np.arange(1970,2015))"
   ]
  },
  {
   "cell_type": "code",
   "execution_count": null,
   "metadata": {},
   "outputs": [],
   "source": [
    "cat_cmip = col.search(experiment_id=['dcppA-hindcast'],\n",
    "                 table_id=table_id,       \n",
    "                 variable_id=variable_id,\n",
    "                 source_id=source_id,\n",
    "                 member_id = members,\n",
    "                 dcpp_init_year=inits\n",
    "                     )\n",
    "cat_cmip.df['dcpp_init_year'] = cat_cmip.df.dcpp_init_year.astype(int)"
   ]
  },
  {
   "cell_type": "code",
   "execution_count": null,
   "metadata": {},
   "outputs": [],
   "source": [
    "def pre(ds,var=variable_id):\n",
    "    ds['time']=np.arange(1,1+ds.time.size)\n",
    "    return ds[var].squeeze().to_dataset(name=var)"
   ]
  },
  {
   "cell_type": "code",
   "execution_count": null,
   "metadata": {},
   "outputs": [],
   "source": [
    "dset_dict = cat_cmip.to_dataset_dict(zarr_kwargs={'consolidated': True},preprocess=pre,cdf_kwargs={'decode_times':False,\n",
    "                                                 'chunks':{'time':-1}})\n",
    "list(dset_dict.keys())"
   ]
  },
  {
   "cell_type": "code",
   "execution_count": null,
   "metadata": {},
   "outputs": [],
   "source": [
    "_, hind = dset_dict.popitem()\n",
    "hind = hind.rename({'member_id':'member','dcpp_init_year':'init','time':'lead'})\n",
    "hind = hind[variable_id].squeeze()\n",
    "# throw away first two leads and create annual means\n",
    "hind=hind.isel(lead=slice(2,None))\n",
    "hind['lead']=xr.cftime_range(start='2000',freq='MS',periods=hind.lead.size)\n",
    "hind_ym = hind.groupby('lead.year').mean().rename({'year':'lead'})\n",
    "hind_ym['lead']=np.arange(1,1+hind_ym.lead.size)\n",
    "hind_ym.data"
   ]
  },
  {
   "cell_type": "markdown",
   "metadata": {},
   "source": [
    "## Get historical"
   ]
  },
  {
   "cell_type": "code",
   "execution_count": null,
   "metadata": {},
   "outputs": [],
   "source": [
    "cat_cmip_hist = col.search(experiment_id=['historical','ssp45'],\n",
    "                 table_id=table_id,       \n",
    "                 variable_id=variable_id,\n",
    "                 source_id='CESM2', # not exactly CESM-LE\n",
    "                 )"
   ]
  },
  {
   "cell_type": "code",
   "execution_count": null,
   "metadata": {},
   "outputs": [],
   "source": [
    "dset_dict = cat_cmip_hist.to_dataset_dict(zarr_kwargs={'consolidated': True})\n",
    "dset_dict.keys()"
   ]
  },
  {
   "cell_type": "code",
   "execution_count": null,
   "metadata": {},
   "outputs": [],
   "source": [
    "_, hist = dset_dict.popitem()\n",
    "hist = hist[variable_id].squeeze()\n",
    "hist = hist.rename({'member_id':'member'})\n",
    "hist = hist.sel(time=slice('1960','2015'))\n",
    "hist_ym = hist.groupby('time.year').mean().rename({'year':'time'})\n",
    "hist_ym.data"
   ]
  },
  {
   "cell_type": "markdown",
   "metadata": {},
   "source": [
    "## Get assimilation"
   ]
  },
  {
   "cell_type": "code",
   "execution_count": null,
   "metadata": {},
   "outputs": [],
   "source": [
    "cat_cmip_hist = col.search(experiment_id=['dcppA-assim'],\n",
    "                 table_id=table_id,       \n",
    "                 variable_id=variable_id,\n",
    "                 source_id=source_id\n",
    "                          )"
   ]
  },
  {
   "cell_type": "code",
   "execution_count": null,
   "metadata": {},
   "outputs": [],
   "source": [
    "if len(cat_cmip_hist.df.source_id.unique()) >= 1:\n",
    "    dset_dict = cat_cmip_hist.to_dataset_dict(zarr_kwargs={'consolidated': True})\n",
    "    print(dset_dict.keys())\n",
    "    _, assim = dset_dict.popitem()\n",
    "    assim = assim[variable_id].squeeze()\n",
    "    assim = assim.rename({'member_id':'member'})\n",
    "    assim = assim.sel(time=slice('1960','2015'))\n",
    "    assim_ym = assim.groupby('time.year').mean().rename({'year':'time'})\n",
    "    display(assim_ym.data)\n",
    "else:\n",
    "    print(f'no assimilation found for {source_id} {table_id} {variable_id}')"
   ]
  },
  {
   "cell_type": "markdown",
   "metadata": {},
   "source": [
    "## Get observations"
   ]
  },
  {
   "cell_type": "code",
   "execution_count": 3,
   "metadata": {},
   "outputs": [
    {
     "name": "stdout",
     "output_type": "stream",
     "text": [
      "--2020-02-18 21:22:07--  https://crudata.uea.ac.uk/cru/data/temperature/HadCRUT.4.6.0.0.median.nc\n",
      "Aufl\"osen des Hostnamens crudata.uea.ac.uk (crudata.uea.ac.uk)... 139.222.133.100\n",
      "Verbindungsaufbau zu crudata.uea.ac.uk (crudata.uea.ac.uk)|139.222.133.100|:443 ... verbunden.\n",
      "HTTP-Anforderung gesendet, auf Antwort wird gewartet ... 200 OK\n",
      "L\"ange: 21468796 (20M) [application/x-netcdf]\n",
      "Wird in >>HadCRUT.4.6.0.0.median.nc<< gespeichert.\n",
      "\n",
      "dCRUT.4.6.0.0.media   6%[>                   ]   1.33M   339KB/s    ETA 66s    ^C\n"
     ]
    }
   ],
   "source": [
    "!wget https://crudata.uea.ac.uk/cru/data/temperature/HadCRUT.4.6.0.0.median.nc"
   ]
  },
  {
   "cell_type": "code",
   "execution_count": null,
   "metadata": {},
   "outputs": [],
   "source": [
    "# weird outcomes\n",
    "!wget https://www.metoffice.gov.uk/hadobs/hadisst/data/HadISST_sst.nc.gz\n",
    "!gunzip -k HadISST_sst.nc.gz"
   ]
  },
  {
   "cell_type": "code",
   "execution_count": null,
   "metadata": {},
   "outputs": [],
   "source": [
    "if variable_id == 'tas':\n",
    "    obs = xr.open_dataset('HadCRUT.4.6.0.0.median.nc')\n",
    "    obs = obs.rename({'latitude':'lat','longitude':'lon','temperature_anomaly':variable_id})[variable_id]\n",
    "elif variable_id == 'tos':\n",
    "    obs = xr.open_dataset('HadISST_sst.nc')\n",
    "    obs = obs.rename({'latitude':'lat','longitude':'lon','temperature_anomaly':variable_id})[variable_id]"
   ]
  },
  {
   "cell_type": "code",
   "execution_count": null,
   "metadata": {},
   "outputs": [],
   "source": [
    "obs = obs.sel(time=slice('1960',None))\n",
    "obs_ym = obs.groupby('time.year').mean().rename({'year':'time'})"
   ]
  },
  {
   "cell_type": "code",
   "execution_count": null,
   "metadata": {},
   "outputs": [],
   "source": []
  },
  {
   "cell_type": "markdown",
   "metadata": {},
   "source": [
    "# detrend"
   ]
  },
  {
   "cell_type": "code",
   "execution_count": null,
   "metadata": {},
   "outputs": [],
   "source": [
    "from climpred.stats import rm_poly\n",
    "order = 2\n",
    "detrend = False"
   ]
  },
  {
   "cell_type": "code",
   "execution_count": null,
   "metadata": {},
   "outputs": [],
   "source": [
    "if detrend:\n",
    "    hind_ym = rm_pol(hind_ym,'init')\n",
    "    hist_ym = rm_pol(hist_ym,'init')\n",
    "    obs_ym = rm_pol(obs_ym,'init')"
   ]
  },
  {
   "cell_type": "markdown",
   "metadata": {},
   "source": [
    "# regrid"
   ]
  },
  {
   "cell_type": "code",
   "execution_count": null,
   "metadata": {},
   "outputs": [],
   "source": [
    "import xesmf as xe\n",
    "\n",
    "def regrid(ds, deg=5):\n",
    "    ds_out = xe.util.grid_global(deg,deg)\n",
    "    regridder = xe.Regridder(ds, ds_out, 'bilinear')\n",
    "    ds_out = regridder(ds)\n",
    "    return ds_out"
   ]
  },
  {
   "cell_type": "code",
   "execution_count": null,
   "metadata": {},
   "outputs": [],
   "source": [
    "# fails when lazy\n",
    "hind_ym_regridded = regrid(hind_ym.load())"
   ]
  },
  {
   "cell_type": "code",
   "execution_count": null,
   "metadata": {},
   "outputs": [],
   "source": [
    "# fails when lazy\n",
    "hist_ym_regridded = regrid(hist_ym.load())"
   ]
  },
  {
   "cell_type": "code",
   "execution_count": null,
   "metadata": {},
   "outputs": [],
   "source": [
    "obs_ym_regridded = regrid(obs_ym)"
   ]
  },
  {
   "cell_type": "markdown",
   "metadata": {},
   "source": [
    "#### check the inputs 👀"
   ]
  },
  {
   "cell_type": "code",
   "execution_count": null,
   "metadata": {},
   "outputs": [],
   "source": [
    "hind_ym_regridded.isel(member=0,lead=2,init=2).plot()"
   ]
  },
  {
   "cell_type": "code",
   "execution_count": null,
   "metadata": {},
   "outputs": [],
   "source": [
    "hist_ym_regridded.isel(member=0,time=2).plot()"
   ]
  },
  {
   "cell_type": "code",
   "execution_count": null,
   "metadata": {},
   "outputs": [],
   "source": [
    "obs_ym_regridded.isel(time=2).plot()"
   ]
  },
  {
   "cell_type": "code",
   "execution_count": null,
   "metadata": {},
   "outputs": [],
   "source": []
  },
  {
   "cell_type": "markdown",
   "metadata": {},
   "source": [
    "## Skill"
   ]
  },
  {
   "cell_type": "code",
   "execution_count": null,
   "metadata": {},
   "outputs": [],
   "source": [
    "from climpred.prediction import compute_hindcast"
   ]
  },
  {
   "cell_type": "code",
   "execution_count": null,
   "metadata": {},
   "outputs": [],
   "source": [
    "cp_kwargs = {'metric': 'acc', 'comparison':'e2r'}"
   ]
  },
  {
   "cell_type": "code",
   "execution_count": null,
   "metadata": {},
   "outputs": [],
   "source": [
    "%time skill = compute_hindcast(hind_ym_regridded, obs_ym_regridded, **cp_kwargs)"
   ]
  },
  {
   "cell_type": "code",
   "execution_count": null,
   "metadata": {},
   "outputs": [],
   "source": [
    "import cartopy.crs as ccrs\n",
    "\n",
    "def plot_skill(skill,map_proj=ccrs.PlateCarree(),**plot_kwargs):\n",
    "    p=skill.plot(col='lead', col_wrap=5, robust=True,\n",
    "                 transform=ccrs.PlateCarree(),  # the data's projection\n",
    "                 aspect=skill[\"lon\"].size / skill[\"lat\"].size,  # for a sensible figsize\n",
    "                 subplot_kws={\"projection\": map_proj},  # the plot's projection\n",
    "                **plot_kwargs)\n",
    "    #for ax in p.axes.flat:\n",
    "    #    ax.coastlines()\n",
    "    return p"
   ]
  },
  {
   "cell_type": "code",
   "execution_count": null,
   "metadata": {},
   "outputs": [],
   "source": [
    "plot_skill(skill)"
   ]
  },
  {
   "cell_type": "code",
   "execution_count": null,
   "metadata": {},
   "outputs": [],
   "source": [
    "import dask\n",
    "if dask.is_dask_collection(hind_ym_regridded):\n",
    "    %time skill = compute_hindcast(hind_ym_regridded, obs_ym_regridded, **cp_kwargs)\n",
    "    display(skill.data)\n",
    "    %time skillc = skill.compute()"
   ]
  },
  {
   "cell_type": "markdown",
   "metadata": {},
   "source": [
    "## Bootstrap significant skill"
   ]
  },
  {
   "cell_type": "code",
   "execution_count": null,
   "metadata": {},
   "outputs": [],
   "source": [
    "from climpred.bootstrap import bootstrap_hindcast"
   ]
  },
  {
   "cell_type": "code",
   "execution_count": null,
   "metadata": {},
   "outputs": [],
   "source": [
    "bootstrap=100"
   ]
  },
  {
   "cell_type": "code",
   "execution_count": null,
   "metadata": {},
   "outputs": [],
   "source": [
    "%time bskill = bootstrap_hindcast(hind_ym_regridded, hist_ym_regridded, obs_ym_regridded, bootstrap=bootstrap, **cp_kwargs)"
   ]
  },
  {
   "cell_type": "code",
   "execution_count": null,
   "metadata": {},
   "outputs": [],
   "source": [
    "improved_by_init = bskill.sel(results='skill',kind='init').where(bskill.sel(results='p',kind='uninit') <= 0.05)\n",
    "plot_skill(improved_by_init)"
   ]
  },
  {
   "cell_type": "markdown",
   "metadata": {},
   "source": [
    "#### correct for FDR"
   ]
  },
  {
   "cell_type": "code",
   "execution_count": null,
   "metadata": {},
   "outputs": [],
   "source": [
    "from esmtools.testing import multipletests\n",
    "_, bskill_fdr_corr_p = multipletests(\n",
    "    bskill.sel(kind=\"uninit\", results=\"p\"), method=\"fdr_bh\", alpha=.05\n",
    ")\n",
    "\n",
    "improved_by_init_corr = bskill.sel(results='skill',kind='init').where(bskill_fdr_corr_p <= .05)\n",
    "plot_skill(improved_by_init_corr)"
   ]
  },
  {
   "cell_type": "markdown",
   "metadata": {},
   "source": [
    "#### lazily with `dask`\n",
    "when chunk by lead ~ 100mb"
   ]
  },
  {
   "cell_type": "code",
   "execution_count": null,
   "metadata": {},
   "outputs": [],
   "source": [
    "hind_ym_regridded = hind_ym_regridded.chunk({'lead':-1}).persist()\n",
    "hind_ym_regridded.data"
   ]
  },
  {
   "cell_type": "code",
   "execution_count": null,
   "metadata": {},
   "outputs": [],
   "source": [
    "hist_ym_regridded = hist_ym_regridded.chunk({'member':-1}).persist()\n",
    "obs_ym_regridded = obs_ym_regridded.chunk({'time':-1}).persist()"
   ]
  },
  {
   "cell_type": "code",
   "execution_count": null,
   "metadata": {},
   "outputs": [],
   "source": [
    "%time bskill = bootstrap_hindcast(hind_ym_regridded, hist_ym_regridded, obs_ym_regridded, bootstrap=bootstrap, **cp_kwargs)"
   ]
  },
  {
   "cell_type": "code",
   "execution_count": null,
   "metadata": {},
   "outputs": [],
   "source": [
    "bskill.data"
   ]
  },
  {
   "cell_type": "code",
   "execution_count": null,
   "metadata": {},
   "outputs": [],
   "source": [
    "%time bskillc = bskill.compute()"
   ]
  },
  {
   "cell_type": "markdown",
   "metadata": {},
   "source": [
    "#### Close down"
   ]
  },
  {
   "cell_type": "code",
   "execution_count": null,
   "metadata": {},
   "outputs": [],
   "source": [
    "regridder.clean_weight_file()"
   ]
  },
  {
   "cell_type": "code",
   "execution_count": null,
   "metadata": {},
   "outputs": [],
   "source": [
    "client.close()\n",
    "cluster.close()"
   ]
  }
 ],
 "metadata": {
  "kernelspec": {
   "display_name": "xr",
   "language": "python",
   "name": "xr"
  },
  "language_info": {
   "codemirror_mode": {
    "name": "ipython",
    "version": 3
   },
   "file_extension": ".py",
   "mimetype": "text/x-python",
   "name": "python",
   "nbconvert_exporter": "python",
   "pygments_lexer": "ipython3",
   "version": "3.7.3"
  }
 },
 "nbformat": 4,
 "nbformat_minor": 4
}
